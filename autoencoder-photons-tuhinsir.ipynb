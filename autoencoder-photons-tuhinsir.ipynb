{
 "cells": [
  {
   "cell_type": "code",
   "execution_count": 1,
   "metadata": {},
   "outputs": [
    {
     "name": "stderr",
     "output_type": "stream",
     "text": [
      "Using TensorFlow backend.\n"
     ]
    }
   ],
   "source": [
    "import tensorflow as tf\n",
    "import keras\n",
    "import pandas as pd\n",
    "import numpy as np\n",
    "import matplotlib.pyplot as plt\n",
    "\n",
    "\n",
    "from keras.models import Model, Sequential\n",
    "from keras.layers import Dense\n",
    "from keras.layers import Input\n",
    "from keras.optimizers import RMSprop\n"
   ]
  },
  {
   "cell_type": "code",
   "execution_count": 2,
   "metadata": {},
   "outputs": [
    {
     "name": "stdout",
     "output_type": "stream",
     "text": [
      "(32369, 225) (19581, 225)\n",
      "(32369,) (19581,) (32369, 225)\n"
     ]
    }
   ],
   "source": [
    "# loading images formed by Tuhin sir algorithm \n",
    "data_photons = np.loadtxt(\"/home/disha/Codes/data-photon-5.out\")\n",
    "\n",
    "data_pions = np.loadtxt(\"/home/disha/Codes/data-pion-5.out\")\n",
    "print (data_photons.shape, data_pions.shape)\n",
    "\n",
    "# assigning labels to photons and pions\n",
    "\n",
    "y_data_photons = np.ones(32369)\n",
    "y_data_pions   = np.zeros(19581)\n",
    "print(y_data_photons.shape, y_data_pions.shape, data_photons.shape)"
   ]
  },
  {
   "cell_type": "code",
   "execution_count": 3,
   "metadata": {},
   "outputs": [
    {
     "name": "stdout",
     "output_type": "stream",
     "text": [
      "(7369, 225) (19581, 225)\n"
     ]
    }
   ],
   "source": [
    "# create training and testing vars\n",
    "x_train_photons = data_photons[:25000,:]\n",
    "x_test_photons = data_photons[25000:,:]\n",
    "x_test_pions = data_pions[:,:]\n",
    "print( x_test_photons.shape, x_test_pions.shape)\n"
   ]
  },
  {
   "cell_type": "code",
   "execution_count": 9,
   "metadata": {},
   "outputs": [],
   "source": [
    "input_size = 225\n",
    "hidden_size1 = 100\n",
    "code_size = 50\n",
    "\n",
    "input_img = Input(shape=(input_size,))\n",
    "hidden_1e = Dense(hidden_size1, activation='relu')(input_img)\n",
    "#hidden_2e = Dense(hidden_size2, activation='relu')(hidden_1e)\n",
    "code = Dense(code_size, activation='relu')(hidden_1e)\n",
    "hidden_1d = Dense(hidden_size1, activation='relu')(code)\n",
    "#hidden_2d = Dense(hidden_size2, activation='relu')(hidden_1d)\n",
    "output_img = Dense(input_size, activation='sigmoid')(hidden_1d)"
   ]
  },
  {
   "cell_type": "code",
   "execution_count": 10,
   "metadata": {
    "scrolled": true
   },
   "outputs": [],
   "source": [
    "autoencoder = Model(input_img, output_img)\n",
    "#autoencoder.compile(loss='binary_crossentropy', optimizer = RMSprop())\n",
    "autoencoder.compile(loss='mean_squared_error', optimizer = RMSprop())"
   ]
  },
  {
   "cell_type": "code",
   "execution_count": 11,
   "metadata": {},
   "outputs": [
    {
     "name": "stdout",
     "output_type": "stream",
     "text": [
      "_________________________________________________________________\n",
      "Layer (type)                 Output Shape              Param #   \n",
      "=================================================================\n",
      "input_2 (InputLayer)         (None, 225)               0         \n",
      "_________________________________________________________________\n",
      "dense_5 (Dense)              (None, 100)               22600     \n",
      "_________________________________________________________________\n",
      "dense_6 (Dense)              (None, 50)                5050      \n",
      "_________________________________________________________________\n",
      "dense_7 (Dense)              (None, 100)               5100      \n",
      "_________________________________________________________________\n",
      "dense_8 (Dense)              (None, 225)               22725     \n",
      "=================================================================\n",
      "Total params: 55,475\n",
      "Trainable params: 55,475\n",
      "Non-trainable params: 0\n",
      "_________________________________________________________________\n"
     ]
    }
   ],
   "source": [
    "autoencoder.summary()"
   ]
  },
  {
   "cell_type": "code",
   "execution_count": 12,
   "metadata": {
    "scrolled": true
   },
   "outputs": [
    {
     "name": "stdout",
     "output_type": "stream",
     "text": [
      "Train on 20000 samples, validate on 5000 samples\n",
      "Epoch 1/40\n",
      "20000/20000 [==============================] - 1s 35us/step - loss: 0.0856 - val_loss: 0.0018\n",
      "Epoch 2/40\n",
      "20000/20000 [==============================] - 0s 14us/step - loss: 8.6147e-04 - val_loss: 5.7571e-04\n",
      "Epoch 3/40\n",
      "20000/20000 [==============================] - 0s 13us/step - loss: 5.4181e-04 - val_loss: 5.2502e-04\n",
      "Epoch 4/40\n",
      "20000/20000 [==============================] - 0s 14us/step - loss: 5.0071e-04 - val_loss: 4.6078e-04\n",
      "Epoch 5/40\n",
      "20000/20000 [==============================] - 0s 13us/step - loss: 3.9016e-04 - val_loss: 3.4879e-04\n",
      "Epoch 6/40\n",
      "20000/20000 [==============================] - 0s 14us/step - loss: 3.2771e-04 - val_loss: 3.1828e-04\n",
      "Epoch 7/40\n",
      "20000/20000 [==============================] - 0s 13us/step - loss: 2.9931e-04 - val_loss: 2.9709e-04\n",
      "Epoch 8/40\n",
      "20000/20000 [==============================] - 0s 14us/step - loss: 2.8450e-04 - val_loss: 2.8413e-04\n",
      "Epoch 9/40\n",
      "20000/20000 [==============================] - 0s 19us/step - loss: 2.7479e-04 - val_loss: 2.7401e-04\n",
      "Epoch 10/40\n",
      "20000/20000 [==============================] - 0s 16us/step - loss: 2.6616e-04 - val_loss: 2.6679e-04\n",
      "Epoch 11/40\n",
      "20000/20000 [==============================] - 0s 14us/step - loss: 2.5576e-04 - val_loss: 2.5471e-04\n",
      "Epoch 12/40\n",
      "20000/20000 [==============================] - 0s 14us/step - loss: 2.4331e-04 - val_loss: 2.4520e-04\n",
      "Epoch 13/40\n",
      "20000/20000 [==============================] - 0s 19us/step - loss: 2.2871e-04 - val_loss: 2.2476e-04\n",
      "Epoch 14/40\n",
      "20000/20000 [==============================] - 0s 14us/step - loss: 2.1448e-04 - val_loss: 2.1326e-04\n",
      "Epoch 15/40\n",
      "20000/20000 [==============================] - 0s 20us/step - loss: 2.0446e-04 - val_loss: 2.0053e-04\n",
      "Epoch 16/40\n",
      "20000/20000 [==============================] - 0s 14us/step - loss: 1.9549e-04 - val_loss: 2.0378e-04\n",
      "Epoch 17/40\n",
      "20000/20000 [==============================] - 0s 14us/step - loss: 1.8762e-04 - val_loss: 1.8360e-04\n",
      "Epoch 18/40\n",
      "20000/20000 [==============================] - 0s 14us/step - loss: 1.7947e-04 - val_loss: 1.8756e-04\n",
      "Epoch 19/40\n",
      "20000/20000 [==============================] - 0s 14us/step - loss: 1.7231e-04 - val_loss: 1.6981e-04\n",
      "Epoch 20/40\n",
      "20000/20000 [==============================] - 0s 15us/step - loss: 1.6585e-04 - val_loss: 1.6532e-04\n",
      "Epoch 21/40\n",
      "20000/20000 [==============================] - 0s 18us/step - loss: 1.6119e-04 - val_loss: 1.6232e-04\n",
      "Epoch 22/40\n",
      "20000/20000 [==============================] - 0s 18us/step - loss: 1.5560e-04 - val_loss: 1.5634e-04\n",
      "Epoch 23/40\n",
      "20000/20000 [==============================] - 0s 16us/step - loss: 1.5128e-04 - val_loss: 1.5008e-04\n",
      "Epoch 24/40\n",
      "20000/20000 [==============================] - 0s 17us/step - loss: 1.4675e-04 - val_loss: 1.4668e-04\n",
      "Epoch 25/40\n",
      "20000/20000 [==============================] - 0s 19us/step - loss: 1.4201e-04 - val_loss: 1.4870e-04\n",
      "Epoch 26/40\n",
      "20000/20000 [==============================] - 0s 14us/step - loss: 1.3816e-04 - val_loss: 1.3759e-04\n",
      "Epoch 27/40\n",
      "20000/20000 [==============================] - 0s 14us/step - loss: 1.3335e-04 - val_loss: 1.3839e-04\n",
      "Epoch 28/40\n",
      "20000/20000 [==============================] - 0s 19us/step - loss: 1.3031e-04 - val_loss: 1.3014e-04\n",
      "Epoch 29/40\n",
      "20000/20000 [==============================] - 0s 14us/step - loss: 1.2648e-04 - val_loss: 1.2851e-04\n",
      "Epoch 30/40\n",
      "20000/20000 [==============================] - 0s 20us/step - loss: 1.2237e-04 - val_loss: 1.2716e-04\n",
      "Epoch 31/40\n",
      "20000/20000 [==============================] - 0s 18us/step - loss: 1.2034e-04 - val_loss: 1.2122e-04\n",
      "Epoch 32/40\n",
      "20000/20000 [==============================] - 0s 15us/step - loss: 1.1767e-04 - val_loss: 1.1802e-04\n",
      "Epoch 33/40\n",
      "20000/20000 [==============================] - 0s 18us/step - loss: 1.1589e-04 - val_loss: 1.1284e-04\n",
      "Epoch 34/40\n",
      "20000/20000 [==============================] - 0s 20us/step - loss: 1.1312e-04 - val_loss: 1.1409e-04\n",
      "Epoch 35/40\n",
      "20000/20000 [==============================] - 0s 15us/step - loss: 1.1111e-04 - val_loss: 1.1123e-04\n",
      "Epoch 36/40\n",
      "20000/20000 [==============================] - 0s 18us/step - loss: 1.0959e-04 - val_loss: 1.0791e-04\n",
      "Epoch 37/40\n",
      "20000/20000 [==============================] - 0s 15us/step - loss: 1.0772e-04 - val_loss: 1.0916e-04\n",
      "Epoch 38/40\n",
      "20000/20000 [==============================] - 0s 20us/step - loss: 1.0602e-04 - val_loss: 1.0503e-04\n",
      "Epoch 39/40\n",
      "20000/20000 [==============================] - 0s 21us/step - loss: 1.0410e-04 - val_loss: 1.0419e-04\n",
      "Epoch 40/40\n",
      "20000/20000 [==============================] - 0s 15us/step - loss: 1.0258e-04 - val_loss: 1.0202e-04\n"
     ]
    }
   ],
   "source": [
    "autoencoder_train = autoencoder.fit(x_train_photons, x_train_photons,  epochs=40,validation_split=0.2, batch_size=500)"
   ]
  },
  {
   "cell_type": "code",
   "execution_count": 13,
   "metadata": {},
   "outputs": [
    {
     "data": {
      "image/png": "[encoded data removed]",
      "text/plain": [
       "<Figure size 432x288 with 1 Axes>"
      ]
     },
     "metadata": {
      "needs_background": "light"
     },
     "output_type": "display_data"
    }
   ],
   "source": [
    "loss = autoencoder_train.history['loss']\n",
    "val_loss = autoencoder_train.history['val_loss']\n",
    "epochs = range(40)\n",
    "plt.figure()\n",
    "plt.plot(epochs, np.log(loss), 'bo', label='Training loss')\n",
    "plt.plot(epochs, np.log(val_loss), 'b', label='Validation loss')\n",
    "plt.title('Training and validation loss on photons (m=0.5 GeV)',fontsize=16)\n",
    "plt.xlabel('epochs', fontsize=20)\n",
    "plt.savefig('training-validation-loss-0.5GeV.png')\n",
    "plt.legend()\n",
    "plt.show()"
   ]
  },
  {
   "cell_type": "code",
   "execution_count": 14,
   "metadata": {},
   "outputs": [],
   "source": [
    "def comp_loss(array):\n",
    "        N = len(array)\n",
    "        predicteds = autoencoder.predict(array)\n",
    "        avg_array = np.array([])\n",
    "        for i in range(N):\n",
    "                diff = array[i] - predicteds[i]\n",
    "                s_diff = np.sum(diff * diff)\n",
    "#                s_diff = np.sum(diff)\n",
    "                avg = s_diff/float(array.shape[1]*array.shape[1])\n",
    "                avg_array = np.append(avg_array,avg)\n",
    "\n",
    "        return avg_array\n"
   ]
  },
  {
   "cell_type": "code",
   "execution_count": 15,
   "metadata": {},
   "outputs": [
    {
     "data": {
      "image/png": "[encoded data removed]",
      "text/plain": [
       "<Figure size 432x288 with 1 Axes>"
      ]
     },
     "metadata": {
      "needs_background": "light"
     },
     "output_type": "display_data"
    }
   ],
   "source": [
    "loss_sig = comp_loss(x_test_photons)\n",
    "loss_bkg = comp_loss(data_pions)\n",
    "\n",
    "plt.hist(np.log(loss_sig),bins=100,color=\"R\",alpha=0.4)\n",
    "plt.hist(np.log(loss_bkg),bins=100,color=\"B\",alpha=0.4)\n",
    "plt.legend(['photons','pions'],fontsize=14)\n",
    "plt.title('m = 0.5 GeV, E = 1 GeV',fontsize=20)\n",
    "\n",
    "plt.xlabel('loss', fontsize=20)\n",
    "plt.savefig('signal_vs_bkg_0.5GeV.png')"
   ]
  },
  {
   "cell_type": "code",
   "execution_count": null,
   "metadata": {},
   "outputs": [],
   "source": []
  }
 ],
 "metadata": {
  "kernelspec": {
   "display_name": "Python 3",
   "language": "python",
   "name": "python3"
  },
  "language_info": {
   "codemirror_mode": {
    "name": "ipython",
    "version": 3
   },
   "file_extension": ".py",
   "mimetype": "text/x-python",
   "name": "python",
   "nbconvert_exporter": "python",
   "pygments_lexer": "ipython3",
   "version": "3.7.3"
  }
 },
 "nbformat": 4,
 "nbformat_minor": 2
}
