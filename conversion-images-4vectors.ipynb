{
 "cells": [
  {
   "cell_type": "code",
   "execution_count": null,
   "metadata": {},
   "outputs": [],
   "source": [
    "import numpy as np\n",
    "import math \n",
    "from tempfile import TemporaryFile\n",
    "import matplotlib.pyplot as plt"
   ]
  },
  {
   "cell_type": "code",
   "execution_count": 2,
   "metadata": {},
   "outputs": [],
   "source": [
    "data_photons = np.loadtxt(\"sig_pure.txt\")\n",
    "data_pions   = np.loadtxt(\"bkg_pure.txt\")"
   ]
  },
  {
   "cell_type": "code",
   "execution_count": 3,
   "metadata": {},
   "outputs": [
    {
     "name": "stdout",
     "output_type": "stream",
     "text": [
      "(32369,)\n"
     ]
    }
   ],
   "source": [
    "x_train_photons = np.array(data_photons[:,0:625])\n",
    "x_train_pions   = np.array(data_pions[:,0:625])\n",
    "x_label_photons = np.array(data_photons[:,625])\n",
    "x_label_pions   = np.array(data_pions[:,625])\n",
    "print(x_label_photons.shape)"
   ]
  },
  {
   "cell_type": "code",
   "execution_count": null,
   "metadata": {},
   "outputs": [],
   "source": [
    "xpl_train_photons = x_train_photons.reshape(32369,25,25)\n",
    "xpl_train_pions = x_train_pions.reshape(19581,25,25)"
   ]
  },
  {
   "cell_type": "code",
   "execution_count": null,
   "metadata": {},
   "outputs": [],
   "source": [
    "max_range =25\n",
    "result_photon = []\n",
    "result_pion   =[]\n",
    "for k in range(32369):\n",
    "    for i in range(max_range):\n",
    "        for j in range(max_range):\n",
    "            eta = 0.02*(i - (max_range-1.)/2.)\n",
    "            phi = 0.02*(j - (max_range-1.)/2.)\n",
    "            E_ecal  = float(1.*xpl_train_photons[k,i,j])\n",
    "            ET_ecal = E_ecal/np.cosh(eta)\n",
    "            pZ_ecal = ET_ecal*np.sinh(eta)\n",
    "            pX_ecal = ET_ecal*np.cos(phi)\n",
    "            pY_ecal = ET_ecal*np.sin(phi)\n",
    "            if(i >= 10 and i < 15):\n",
    "                if(j >= 10 and j < 15):\n",
    "                        four_vec = [ pX_ecal, pY_ecal, pZ_ecal, E_ecal]\n",
    "                        result_photon.append(four_vec)\n",
    "   "
   ]
  },
  {
   "cell_type": "code",
   "execution_count": null,
   "metadata": {},
   "outputs": [],
   "source": [
    "max_range =25\n",
    "result_pion   =[]\n",
    "for k in range(19581):\n",
    "    for i in range(max_range):\n",
    "        for j in range(max_range):\n",
    "            eta = 0.02*(i - (max_range-1.)/2.)\n",
    "            phi = 0.02*(j - (max_range-1.)/2.)\n",
    "            E_ecal  = 1.*xpl_train_pions[k,i,j]\n",
    "            ET_ecal = E_ecal/np.cosh(eta)\n",
    "            pZ_ecal = ET_ecal*np.sinh(eta)\n",
    "            pX_ecal = ET_ecal*np.cos(phi)\n",
    "            pY_ecal = ET_ecal*np.sin(phi)\n",
    "            if(i >= 10 and i < 15):\n",
    "                if(j >= 10 and j < 15):\n",
    "                        four_vec_pion = [ pX_ecal, pY_ecal, pZ_ecal, E_ecal]\n",
    "                        result_pion.append(four_vec_pion)      "
   ]
  },
  {
   "cell_type": "code",
   "execution_count": null,
   "metadata": {},
   "outputs": [],
   "source": [
    "result_photon = np.array(result_photon)\n",
    "result_pion   = np.array(result_pion)\n",
    "print(result_photon.shape, result_pion.shape)"
   ]
  },
  {
   "cell_type": "code",
   "execution_count": null,
   "metadata": {},
   "outputs": [],
   "source": [
    "np.savetxt('/home/disha/Codes/data-photon.in', result_photon) \n",
    "np.savetxt('/home/disha/Codes/data-pion.in', result_pion) "
   ]
  },
  {
   "cell_type": "code",
   "execution_count": null,
   "metadata": {},
   "outputs": [],
   "source": []
  }
 ],
 "metadata": {
  "kernelspec": {
   "display_name": "Python 3",
   "language": "python",
   "name": "python3"
  },
  "language_info": {
   "codemirror_mode": {
    "name": "ipython",
    "version": 3
   },
   "file_extension": ".py",
   "mimetype": "text/x-python",
   "name": "python",
   "nbconvert_exporter": "python",
   "pygments_lexer": "ipython3",
   "version": "3.7.3"
  }
 },
 "nbformat": 4,
 "nbformat_minor": 2
}
