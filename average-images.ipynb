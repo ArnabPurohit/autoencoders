{
 "cells": [
  {
   "cell_type": "code",
   "execution_count": null,
   "metadata": {},
   "outputs": [],
   "source": [
    "#loading image after preprocessing using Tuhin sir method"
   ]
  },
  {
   "cell_type": "code",
   "execution_count": 1,
   "metadata": {},
   "outputs": [
    {
     "name": "stderr",
     "output_type": "stream",
     "text": [
      "Using TensorFlow backend.\n"
     ]
    }
   ],
   "source": [
    "from __future__ import print_function\n",
    "\n",
    "import tensorflow as tf\n",
    "import keras\n",
    "import pandas as pd\n",
    "import numpy as np\n",
    "import matplotlib.pyplot as plt\n",
    "from matplotlib import cm\n"
   ]
  },
  {
   "cell_type": "code",
   "execution_count": 2,
   "metadata": {},
   "outputs": [],
   "source": [
    "data_photons_5 = np.loadtxt('/home/disha/Codes/data-photon-5.out')\n",
    "data_pions_5 = np.loadtxt('/home/disha/Codes/data-pion-5.out')\n",
    "\n",
    "data_photons_05 = np.loadtxt('/home/disha/Codes/data-photon-05.out')\n",
    "data_pions_05   = np.loadtxt('/home/disha/Codes/data-pion-05.out')"
   ]
  },
  {
   "cell_type": "code",
   "execution_count": 3,
   "metadata": {},
   "outputs": [
    {
     "ename": "NameError",
     "evalue": "name 'data_photons' is not defined",
     "output_type": "error",
     "traceback": [
      "\u001b[0;31m---------------------------------------------------------------------------\u001b[0m",
      "\u001b[0;31mNameError\u001b[0m                                 Traceback (most recent call last)",
      "\u001b[0;32m<ipython-input-3-dc4519210af1>\u001b[0m in \u001b[0;36m<module>\u001b[0;34m\u001b[0m\n\u001b[0;32m----> 1\u001b[0;31m \u001b[0mprint\u001b[0m\u001b[0;34m(\u001b[0m \u001b[0mdata_pions_5\u001b[0m\u001b[0;34m.\u001b[0m\u001b[0mshape\u001b[0m\u001b[0;34m,\u001b[0m \u001b[0mdata_photons\u001b[0m\u001b[0;34m.\u001b[0m\u001b[0mshape\u001b[0m\u001b[0;34m)\u001b[0m\u001b[0;34m\u001b[0m\u001b[0;34m\u001b[0m\u001b[0m\n\u001b[0m",
      "\u001b[0;31mNameError\u001b[0m: name 'data_photons' is not defined"
     ]
    }
   ],
   "source": [
    "print( data_pions_5.shape, data_photons.shape)\n"
   ]
  },
  {
   "cell_type": "code",
   "execution_count": 4,
   "metadata": {},
   "outputs": [],
   "source": [
    "data_pions_5   = data_pions_5.reshape(19581,15,15)\n",
    "data_photons_5 = data_photons_5.reshape(32369,15,15)\n",
    "avg_photons_5  = np.sum(data_photons_5,axis=0)\n",
    "avg_pions_5    = np.sum(data_pions_5,axis=0)\n",
    "\n",
    "data_pions_05   = data_pions_05.reshape(19581,15,15)\n",
    "data_photons_05 = data_photons_05.reshape(32369,15,15)\n",
    "avg_photons_05=np.sum(data_photons_05,axis=0)\n",
    "avg_pions_05=np.sum(data_pions_05,axis=0)\n"
   ]
  },
  {
   "cell_type": "code",
   "execution_count": 5,
   "metadata": {},
   "outputs": [
    {
     "data": {
      "image/png": "[encoded data removed]",
      "text/plain": [
       "<Figure size 432x288 with 1 Axes>"
      ]
     },
     "metadata": {
      "needs_background": "light"
     },
     "output_type": "display_data"
    }
   ],
   "source": [
    "plt.imshow(avg_photons_5.T,origin='lower')\n",
    "plt.colorbar\n",
    "ax = plt.gca();\n",
    "ax.set_ylim(0,14);\n",
    "ax.set_xlim(0,14);\n",
    "plt.savefig('avg_photons-0.5GeV.png')"
   ]
  },
  {
   "cell_type": "code",
   "execution_count": null,
   "metadata": {},
   "outputs": [],
   "source": [
    "plt.imshow(avg_photons_05.T,origin='lower')\n",
    "plt.colorbar\n",
    "ax = plt.gca();\n",
    "ax.set_ylim(0,14);\n",
    "ax.set_xlim(0,14);"
   ]
  },
  {
   "cell_type": "code",
   "execution_count": 6,
   "metadata": {},
   "outputs": [
    {
     "data": {
      "image/png": "[encoded data removed]",
      "text/plain": [
       "<Figure size 432x288 with 2 Axes>"
      ]
     },
     "metadata": {
      "needs_background": "light"
     },
     "output_type": "display_data"
    }
   ],
   "source": [
    "plt.imshow(avg_pions_5.T,origin='lower')\n",
    "plt.colorbar()\n",
    "ax = plt.gca();\n",
    "ax.set_ylim(0,14);\n",
    "ax.set_xlim(0,14);\n",
    "plt.savefig('avg_pions-0.5GeV.png')"
   ]
  },
  {
   "cell_type": "code",
   "execution_count": null,
   "metadata": {},
   "outputs": [],
   "source": [
    "plt.imshow(avg_pions_05.T,origin='lower')\n",
    "plt.colorbar()\n",
    "ax = plt.gca();\n",
    "ax.set_ylim(0,14);\n",
    "ax.set_xlim(0,14);"
   ]
  },
  {
   "cell_type": "code",
   "execution_count": null,
   "metadata": {},
   "outputs": [],
   "source": []
  }
 ],
 "metadata": {
  "kernelspec": {
   "display_name": "Python 3",
   "language": "python",
   "name": "python3"
  },
  "language_info": {
   "codemirror_mode": {
    "name": "ipython",
    "version": 3
   },
   "file_extension": ".py",
   "mimetype": "text/x-python",
   "name": "python",
   "nbconvert_exporter": "python",
   "pygments_lexer": "ipython3",
   "version": "3.7.3"
  }
 },
 "nbformat": 4,
 "nbformat_minor": 2
}
